{
 "cells": [
  {
   "cell_type": "markdown",
   "metadata": {
    "colab_type": "text",
    "id": "XheQ3Fotlf4S"
   },
   "source": [
    "# Problem 2"
   ]
  },
  {
   "cell_type": "code",
   "execution_count": null,
   "metadata": {
    "colab": {
     "base_uri": "https://localhost:8080/",
     "height": 34
    },
    "colab_type": "code",
    "id": "Vh_KqY0aJ2d0",
    "outputId": "d3b6eeee-2308-4882-8083-40bfd9f4a99c"
   },
   "outputs": [],
   "source": [
    "from __future__ import print_function\n",
    "\n",
    "import torch\n",
    "import torch.nn as nn\n",
    "import torch.optim as optim\n",
    "from torch.autograd import Variable\n",
    "from torchsummary import summary\n",
    "import numpy as np\n",
    "\n",
    "import torchvision\n",
    "import torchvision.transforms\n",
    "\n",
    "from torch.utils.data.sampler import SubsetRandomSampler\n",
    "\n",
    "from_numpy = torch.from_numpy\n",
    "\n",
    "cuda = torch.cuda.is_available()\n",
    "if cuda:\n",
    "    print('cuda is available')\n",
    "else:\n",
    "    print('cuda is not available')\n",
    "\n"
   ]
  },
  {
   "cell_type": "markdown",
   "metadata": {
    "colab_type": "text",
    "id": "5CUSmvsAm6U1"
   },
   "source": [
    "## Setting hyper-parameters"
   ]
  },
  {
   "cell_type": "code",
   "execution_count": null,
   "metadata": {
    "colab": {},
    "colab_type": "code",
    "id": "csiA66Arm93u"
   },
   "outputs": [],
   "source": [
    "## Sets hyper_param\n",
    "batch_size = 50 # mini_batch size\n",
    "num_epochs = 10 # number of training epochs    \n",
    "lr0 = 0.02 # learning rate\n",
    "\n",
    "store_every = 1000\n",
    "model_type = 'CNN'\n",
    "PATH = '/content/models/'"
   ]
  },
  {
   "cell_type": "markdown",
   "metadata": {
    "colab_type": "text",
    "id": "-xDiZnvXl3L-"
   },
   "source": [
    "## Loading MNIST data"
   ]
  },
  {
   "cell_type": "code",
   "execution_count": null,
   "metadata": {
    "colab": {
     "base_uri": "https://localhost:8080/",
     "height": 119
    },
    "colab_type": "code",
    "id": "d0OWagPDNq6b",
    "outputId": "ed50c122-2ac9-470c-82ba-edf475ac65fb"
   },
   "outputs": [],
   "source": [
    "## Load Dataset and creates loaders\n",
    "## mnist images are 1x28x28\n",
    "## label is an int from 0 to 9\n",
    "\n",
    "data_size = (1,28,28)\n",
    "mnist_transforms = torchvision.transforms.Compose(\n",
    "        [torchvision.transforms.ToTensor()])\n",
    "\n",
    "mnist_train = torchvision.datasets.MNIST(\n",
    "        root='./data', train=True, \n",
    "        transform=mnist_transforms, download=True)\n",
    "mnist_test = torchvision.datasets.MNIST(\n",
    "        root='./data', train=False, \n",
    "        transform=mnist_transforms, download=True)\n",
    "\n",
    "# Creating data indices for training and validation splits:\n",
    "len_data = len(mnist_train)\n",
    "indices = list(range(len_data))\n",
    "id_split = int(0.85 * len_data)\n",
    "np.random.shuffle(indices)\n",
    "train_indices, valid_indices = indices[:id_split], indices[id_split:]\n",
    "\n",
    "# Creating PT data samplers and loaders:\n",
    "train_sampler = SubsetRandomSampler(train_indices)\n",
    "valid_sampler = SubsetRandomSampler(valid_indices)\n",
    "\n",
    "# Train set\n",
    "train_loader = torch.utils.data.DataLoader(\n",
    "        mnist_train, batch_size=batch_size, sampler=train_sampler, num_workers=2)\n",
    "\n",
    "# Validation set\n",
    "valid_loader = torch.utils.data.DataLoader(\n",
    "        mnist_train, batch_size=batch_size, sampler=valid_sampler, num_workers=2)\n",
    "\n",
    "# Test set\n",
    "test_loader = torch.utils.data.DataLoader(\n",
    "        mnist_test, batch_size=batch_size, shuffle=True, num_workers=2)"
   ]
  },
  {
   "cell_type": "code",
   "execution_count": null,
   "metadata": {
    "colab": {
     "base_uri": "https://localhost:8080/",
     "height": 51
    },
    "colab_type": "code",
    "id": "xqgHOqExCWRH",
    "outputId": "d248c1c7-6cce-42bd-8133-e960db0c5b61"
   },
   "outputs": [],
   "source": [
    "print(\"Total train data: \", len(mnist_train), \" Total test data: \", len(mnist_test))\n",
    "print(\"Training set size: \", len(train_loader)*batch_size, \n",
    "      \" Validation set size: \", len(valid_loader)*batch_size)"
   ]
  },
  {
   "cell_type": "markdown",
   "metadata": {
    "colab_type": "text",
    "id": "kvWacyp9mMZd"
   },
   "source": [
    "## Building the CNN model"
   ]
  },
  {
   "cell_type": "code",
   "execution_count": null,
   "metadata": {
    "colab": {
     "base_uri": "https://localhost:8080/",
     "height": 544
    },
    "colab_type": "code",
    "id": "-zwQI4HaQolP",
    "outputId": "628bb6c3-db0a-4b20-f035-f16ac1dac6a3"
   },
   "outputs": [],
   "source": [
    "# building model\n",
    "class ResLinear(nn.Module):\n",
    "\n",
    "    def __init__(self, in_features, out_features, activation=nn.ReLU()):\n",
    "        super(ResLinear, self).__init__()\n",
    "        \n",
    "        self.in_features = in_features\n",
    "        self.out_features = out_features\n",
    "        self.activation = activation\n",
    "        \n",
    "        self.linear = nn.Linear(in_features, out_features)\n",
    "        if in_features != out_features:\n",
    "            self.project_linear = nn.Linear(in_features, out_features)\n",
    "        \n",
    "    def forward(self, x):\n",
    "        inner = self.activation(self.linear(x))\n",
    "        if self.in_features != self.out_features:\n",
    "            skip = self.project_linear(x)\n",
    "        else:\n",
    "            skip = x\n",
    "        return inner + skip\n",
    "\n",
    "\n",
    "class Flatten(nn.Module):\n",
    "    def forward(self, x):\n",
    "        x = x.view(x.size(0), -1)\n",
    "        return x\n",
    "\n",
    "\n",
    "if model_type == 'MLP':        \n",
    "    model = nn.Sequential(\n",
    "        ResLinear(784, 312),\n",
    "        nn.ReLU(),\n",
    "        ResLinear(312, 312),\n",
    "        nn.ReLU(),\n",
    "        ResLinear(312, 10)\n",
    "    )\n",
    "elif model_type == 'CNN':\n",
    "    model = nn.Sequential(\n",
    "        nn.Conv2d(1, 32, 5), #1 input channel, 16 output channel, 5x5 kernel\n",
    "        nn.ReLU(),\n",
    "        nn.MaxPool2d(2),\n",
    "        nn.Conv2d(32, 64, 3),\n",
    "        nn.ReLU(),\n",
    "        nn.MaxPool2d(2),\n",
    "        Flatten(),\n",
    "        ResLinear(1600, 256),\n",
    "        nn.ReLU(),\n",
    "        ResLinear(256, 10)\n",
    "    )\n",
    "    \n",
    "if cuda:\n",
    "    model = model.cuda()\n",
    "\n",
    "summary(model,data_size)"
   ]
  },
  {
   "cell_type": "markdown",
   "metadata": {
    "colab_type": "text",
    "id": "GeI92V7Annia"
   },
   "source": [
    "## Setting the optimizer"
   ]
  },
  {
   "cell_type": "code",
   "execution_count": null,
   "metadata": {
    "colab": {},
    "colab_type": "code",
    "id": "2ungRRAzQyQ8"
   },
   "outputs": [],
   "source": [
    "## Setting the optimizer\n",
    "\n",
    "criterion = nn.CrossEntropyLoss() # to compute the loss\n",
    "optimizer = optim.SGD(model.parameters(), lr=lr0)\n",
    "lr_lambda = lambda epoch: 0.1**(epoch/float(num_epochs))\n",
    "scheduler = torch.optim.lr_scheduler.LambdaLR(optimizer, lr_lambda)\n",
    "\n"
   ]
  },
  {
   "cell_type": "code",
   "execution_count": null,
   "metadata": {
    "colab": {},
    "colab_type": "code",
    "id": "2YoSUzaxQ8fD"
   },
   "outputs": [],
   "source": [
    "## Defining the evaluation routines\n",
    "def accuracy(proba, y):\n",
    "    correct = torch.eq(proba.max(1)[1], y).sum().type(torch.FloatTensor)\n",
    "    return correct / y.size(0)\n",
    "    \n",
    "    \n",
    "def evaluate(dataset_loader, criterion):\n",
    "    LOSSES = 0\n",
    "    COUNTER = 0\n",
    "    for batch in dataset_loader:\n",
    "        optimizer.zero_grad()\n",
    "\n",
    "        x, y = batch\n",
    "        if model_type == 'MLP':\n",
    "            x = x.view(-1,784)\n",
    "            y = y.view(-1)\n",
    "        elif model_type == 'CNN':\n",
    "            x = x.view(-1,*data_size)\n",
    "            y = y.view(-1)\n",
    "            \n",
    "        if cuda:\n",
    "            x = x.cuda()\n",
    "            y = y.cuda()\n",
    "            \n",
    "        loss = criterion(model(x), y)\n",
    "        n = y.size(0)\n",
    "        LOSSES += loss.sum().data.cpu().numpy() * n\n",
    "        COUNTER += n\n",
    "    \n",
    "    return LOSSES / float(COUNTER)"
   ]
  },
  {
   "cell_type": "markdown",
   "metadata": {
    "colab_type": "text",
    "id": "AGitDYsWnt5e"
   },
   "source": [
    "## Train the model"
   ]
  },
  {
   "cell_type": "code",
   "execution_count": null,
   "metadata": {
    "colab": {},
    "colab_type": "code",
    "id": "12-uemUIRSlc"
   },
   "outputs": [],
   "source": [
    "## Defines the train function\n",
    "def train_model():\n",
    "    \n",
    "    LOSSES = 0\n",
    "    COUNTER = 0\n",
    "    ITERATIONS = 0\n",
    "    learning_curve_nll_train = list()\n",
    "    learning_curve_nll_valid = list()\n",
    "    learning_curve_acc_train = list()\n",
    "    learning_curve_acc_valid = list()\n",
    "    best_acc = -np.inf\n",
    "    for e in range(num_epochs):\n",
    "        print(f'============= EPOCH {e} ========================')\n",
    "        scheduler.step()\n",
    "        for batch in train_loader:\n",
    "            optimizer.zero_grad()\n",
    "\n",
    "            x, y = batch\n",
    "            if model_type == 'MLP':\n",
    "                x = x.view(-1,784)\n",
    "                y = y.view(-1)\n",
    "            elif model_type == 'CNN':\n",
    "                x = x.view(-1,*data_size)\n",
    "                y = y.view(-1)\n",
    "            if cuda:\n",
    "                x = x.cuda()\n",
    "                y = y.cuda()\n",
    "           \n",
    "            loss = criterion(model(x), y)\n",
    "            loss.backward()\n",
    "            optimizer.step()\n",
    "            \n",
    "            n = y.size(0)\n",
    "            LOSSES += loss.sum().data.cpu().numpy() * n\n",
    "            COUNTER += n\n",
    "            ITERATIONS += 1\n",
    "            if ITERATIONS%(store_every/5) == 0:\n",
    "                avg_loss = LOSSES / float(COUNTER)\n",
    "                LOSSES = 0\n",
    "                COUNTER = 0\n",
    "                print(\" Iteration {}: TRAIN {}\".format(\n",
    "                    ITERATIONS, avg_loss))   \n",
    "                \n",
    "        train_loss = evaluate(train_loader, criterion)\n",
    "        learning_curve_nll_train.append(train_loss)\n",
    "        valid_loss = evaluate(valid_loader, criterion)\n",
    "        learning_curve_nll_valid.append(valid_loss)\n",
    "\n",
    "        train_acc = evaluate(train_loader, accuracy)\n",
    "        learning_curve_acc_train.append(train_acc)\n",
    "        valid_acc = evaluate(valid_loader, accuracy)\n",
    "        learning_curve_acc_valid.append(valid_acc)\n",
    "        if round(valid_acc,3) > best_acc:\n",
    "            best_acc = round(valid_acc,3)\n",
    "            torch.save(model.state_dict(), \n",
    "                       f'{PATH}model_acc_{best_acc}.pth')\n",
    "            print('saved model')\n",
    "\n",
    "        print(\" [NLL] TRAIN {} / VALIDATION {}\".format(\n",
    "            train_loss, valid_loss))\n",
    "        print(\" [ACC] TRAIN {} / VALIDATION {}\".format(\n",
    "            train_acc, valid_acc))\n",
    "        \n",
    "        \n",
    "    return learning_curve_nll_train, \\\n",
    "           learning_curve_nll_valid, \\\n",
    "           learning_curve_acc_train, \\\n",
    "           learning_curve_acc_valid, "
   ]
  },
  {
   "cell_type": "code",
   "execution_count": null,
   "metadata": {
    "colab": {
     "base_uri": "https://localhost:8080/",
     "height": 1496
    },
    "colab_type": "code",
    "id": "Z49IDEAvRpLZ",
    "outputId": "d8fdc3bc-fd80-4733-f75d-b0c3c5e0ac69"
   },
   "outputs": [],
   "source": [
    "nll_train, nll_valid, acc_train, acc_valid = train_model()"
   ]
  },
  {
   "cell_type": "markdown",
   "metadata": {
    "colab_type": "text",
    "id": "5K1-cbUgn4yT"
   },
   "source": [
    "## Evaluate the model accuracy on test set"
   ]
  },
  {
   "cell_type": "code",
   "execution_count": null,
   "metadata": {
    "colab": {},
    "colab_type": "code",
    "id": "I6IXkLtnpeiY"
   },
   "outputs": [],
   "source": [
    "# Load the best model\n",
    "\n",
    "model = nn.Sequential()\n",
    "model.load_state_dict(torch.load(\n",
    "    f'{PATH}model_acc_0.985.pth'))\n",
    "model.eval()"
   ]
  },
  {
   "cell_type": "code",
   "execution_count": null,
   "metadata": {
    "colab": {
     "base_uri": "https://localhost:8080/",
     "height": 68
    },
    "colab_type": "code",
    "id": "lbsrbAQt8edf",
    "outputId": "a743438e-d6bd-4b68-eed4-b8adb0f71e37"
   },
   "outputs": [],
   "source": [
    "# Evaluate model\n",
    "\n",
    "test_loss = evaluate(test_loader, criterion)\n",
    "test_acc = evaluate(test_loader, accuracy)\n",
    "\n",
    "print(\"Model evaluation ===================\")\n",
    "print(\"Test accuracy: \", str(test_acc))\n",
    "print(\"Test loss: \", str(test_loss))"
   ]
  },
  {
   "cell_type": "markdown",
   "metadata": {
    "colab_type": "text",
    "id": "KFnLJIJWn-s5"
   },
   "source": [
    "## Plot test vs validation loss and accuracy"
   ]
  },
  {
   "cell_type": "code",
   "execution_count": null,
   "metadata": {
    "colab": {
     "base_uri": "https://localhost:8080/",
     "height": 401
    },
    "colab_type": "code",
    "id": "hkcw4p7Sf3KH",
    "outputId": "14adfbf6-9cf4-496e-80ad-94fb8cb8e225"
   },
   "outputs": [],
   "source": [
    "import matplotlib.pyplot as plt\n",
    "\n",
    "plt.plot((1-np.array(acc_train))*100, label='train')\n",
    "plt.plot((1-np.array(acc_valid))*100, label='validation')\n",
    "plt.legend(bbox_to_anchor=(1, 1), loc=2)\n",
    "plt.title('Train and validation errors')\n",
    "plt.xlabel('Epoch')\n",
    "plt.ylabel('Error (%)')\n",
    "\n",
    "plt.tight_layout()"
   ]
  }
 ],
 "metadata": {
  "accelerator": "GPU",
  "colab": {
   "collapsed_sections": [],
   "name": "problem2.ipynb",
   "provenance": [],
   "version": "0.3.2"
  },
  "kernelspec": {
   "display_name": "Python 3",
   "language": "python",
   "name": "python3"
  },
  "language_info": {
   "codemirror_mode": {
    "name": "ipython",
    "version": 3
   },
   "file_extension": ".py",
   "mimetype": "text/x-python",
   "name": "python",
   "nbconvert_exporter": "python",
   "pygments_lexer": "ipython3",
   "version": "3.7.2"
  }
 },
 "nbformat": 4,
 "nbformat_minor": 1
}
